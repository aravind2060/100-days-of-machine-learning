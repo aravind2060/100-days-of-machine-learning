{
  "nbformat": 4,
  "nbformat_minor": 0,
  "metadata": {
    "colab": {
      "provenance": [],
      "gpuType": "T4",
      "include_colab_link": true
    },
    "kernelspec": {
      "name": "python3",
      "display_name": "Python 3"
    },
    "language_info": {
      "name": "python"
    },
    "accelerator": "GPU"
  },
  "cells": [
    {
      "cell_type": "markdown",
      "metadata": {
        "id": "view-in-github",
        "colab_type": "text"
      },
      "source": [
        "<a href=\"https://colab.research.google.com/github/aravind2060/100-days-of-machine-learning/blob/main/Neural_Network_Training_Loop.ipynb\" target=\"_parent\"><img src=\"https://colab.research.google.com/assets/colab-badge.svg\" alt=\"Open In Colab\"/></a>"
      ]
    },
    {
      "cell_type": "markdown",
      "source": [
        "### Neural Network Lab\n",
        "\n",
        "Professor: Rick Chakra\n",
        "\n",
        "TA: Rebecca Jones"
      ],
      "metadata": {
        "id": "4QsKu2zHJx5x"
      }
    },
    {
      "cell_type": "markdown",
      "source": [
        "#Let's build a Neural Network"
      ],
      "metadata": {
        "id": "vvWip-M5njUb"
      }
    },
    {
      "cell_type": "markdown",
      "source": [
        "The first step is to import pytorch and make sure its the right version!"
      ],
      "metadata": {
        "id": "_xt_v9msuZfQ"
      }
    },
    {
      "cell_type": "code",
      "source": [
        "# Import Pytorch\n",
        "import torch\n",
        "print(torch.__version__)"
      ],
      "metadata": {
        "id": "6bluvB4oLX8I",
        "colab": {
          "base_uri": "https://localhost:8080/"
        },
        "outputId": "d21b860f-6af3-49ea-d079-4da0f9cfbad4"
      },
      "execution_count": 1,
      "outputs": [
        {
          "output_type": "stream",
          "name": "stdout",
          "text": [
            "2.6.0+cu124\n"
          ]
        }
      ]
    },
    {
      "cell_type": "code",
      "source": [
        "#If it wont import because torch isn't installed\n",
        "#!pip install torch"
      ],
      "metadata": {
        "id": "rOYTAK8wWFZW"
      },
      "execution_count": 2,
      "outputs": []
    },
    {
      "cell_type": "markdown",
      "source": [
        "Lets now import the other packages we need"
      ],
      "metadata": {
        "id": "YWNCP4NiWURb"
      }
    },
    {
      "cell_type": "code",
      "source": [
        "# Import other packages\n",
        "from numpy import vstack\n",
        "from pandas import read_csv\n",
        "from sklearn.preprocessing import LabelEncoder\n",
        "from sklearn.metrics import accuracy_score\n",
        "from torch.utils.data import Dataset\n",
        "from torch.utils.data import DataLoader\n",
        "from torch.utils.data import random_split\n",
        "from torch import Tensor\n",
        "from torch.nn import Linear\n",
        "from torch.nn import ReLU\n",
        "from torch.nn import Sigmoid\n",
        "from torch.nn import Module\n",
        "from torch.optim import SGD\n",
        "from torch.nn import BCELoss\n",
        "from torch.nn.init import kaiming_uniform_\n",
        "from torch.nn.init import xavier_uniform_\n",
        "from matplotlib import pyplot as plt"
      ],
      "metadata": {
        "id": "JMDn20BmLcjR"
      },
      "execution_count": 3,
      "outputs": []
    },
    {
      "cell_type": "markdown",
      "source": [
        "After importing the remaining packages needed to make a Nural Network we need to set up our dataset to be used by pytorch."
      ],
      "metadata": {
        "id": "EGflJRCNWg36"
      }
    },
    {
      "cell_type": "code",
      "source": [
        "# Difine Dataset\n",
        "class CSVDataset(Dataset):\n",
        "    # load the dataset\n",
        "    def __init__(self, path):\n",
        "        # load the csv file as a dataframe\n",
        "        self.df = read_csv(path, header=0)\n",
        "        # store the inputs and outputs\n",
        "        self.X = self.df.values[:, :-1]\n",
        "        self.y = self.df.values[:, -1]\n",
        "        # ensure input data is floats\n",
        "        self.X = self.X.astype('float32')\n",
        "        # label encode target and ensure the values are floats\n",
        "        self.y = LabelEncoder().fit_transform(self.y)\n",
        "        self.y = self.y.astype('float32')\n",
        "        self.y = self.y.reshape((len(self.y), 1))\n",
        "\n",
        "    # number of rows in the dataset\n",
        "    def __len__(self):\n",
        "        return len(self.X)\n",
        "\n",
        "    # get a row at an index\n",
        "    def __getitem__(self, idx):\n",
        "        return [self.X[idx], self.y[idx]]\n",
        "\n",
        "    # get indexes for train and test rows\n",
        "    def get_splits(self, n_test=0.2,n_val=0.2):\n",
        "        # determine sizes\n",
        "        test_size = round(n_test * len(self.X))\n",
        "        val_size = round(n_val * len(self.X))\n",
        "        train_size = len(self.X) - test_size - val_size\n",
        "        # calculate the split\n",
        "        return random_split(self, [train_size, test_size, val_size])\n",
        "\n",
        "    # get dataset\n",
        "    def get_dataset(self):\n",
        "      return self.df"
      ],
      "metadata": {
        "id": "MvxsUIjeLiDo"
      },
      "execution_count": 4,
      "outputs": []
    },
    {
      "cell_type": "markdown",
      "source": [
        "Next we are going to make a function to use the previous function and split our dataset."
      ],
      "metadata": {
        "id": "6in4P_vwWuAY"
      }
    },
    {
      "cell_type": "code",
      "source": [
        "# prepare the dataset\n",
        "def prepare_data(path):\n",
        "    # load the dataset\n",
        "    dataset = CSVDataset(path)\n",
        "    # calculate split\n",
        "    train, test, val = dataset.get_splits()\n",
        "    # prepare data loaders\n",
        "    train_dl = DataLoader(train, batch_size=47, shuffle=True)\n",
        "    val_dl = DataLoader(val, batch_size=47, shuffle=True)\n",
        "    test_dl = DataLoader(test, batch_size=116, shuffle=False)\n",
        "\n",
        "    # get df\n",
        "    df = dataset.get_dataset()\n",
        "    return df, train_dl, test_dl, val_dl"
      ],
      "metadata": {
        "id": "7N23V5qtLy23"
      },
      "execution_count": 5,
      "outputs": []
    },
    {
      "cell_type": "markdown",
      "source": [
        "Now that we have all of our data functions defined we can call them to prepare our data"
      ],
      "metadata": {
        "id": "wTEycy6tW7bq"
      }
    },
    {
      "cell_type": "code",
      "source": [
        "#Import and prepare the data\n",
        "path = 'https://raw.githubusercontent.com/jbrownlee/Datasets/master/ionosphere.csv'\n",
        "# path = 'ionosphere.csv'\n",
        "df, train_dl, test_dl, val_dl = prepare_data(path)\n",
        "print(len(train_dl.dataset), len(test_dl.dataset), len(val_dl.dataset))"
      ],
      "metadata": {
        "id": "C3x1O1-oLzwe",
        "colab": {
          "base_uri": "https://localhost:8080/"
        },
        "outputId": "cea3a4f2-b68d-42dc-dc7d-042d3841c1e6"
      },
      "execution_count": 6,
      "outputs": [
        {
          "output_type": "stream",
          "name": "stdout",
          "text": [
            "210 70 70\n"
          ]
        }
      ]
    },
    {
      "cell_type": "code",
      "source": [
        "# view dataset\n",
        "print(df)"
      ],
      "metadata": {
        "id": "PL3BQ7vhd6rY",
        "colab": {
          "base_uri": "https://localhost:8080/"
        },
        "outputId": "85b9c8db-f8d5-4272-dc22-6c2b356c04a1"
      },
      "execution_count": 7,
      "outputs": [
        {
          "output_type": "stream",
          "name": "stdout",
          "text": [
            "     1  0  0.99539  -0.05889  0.85243  0.02306  0.83398  -0.37708      1.1  \\\n",
            "0    1  0  1.00000  -0.18829  0.93035 -0.36156 -0.10868  -0.93597  1.00000   \n",
            "1    1  0  1.00000  -0.03365  1.00000  0.00485  1.00000  -0.12062  0.88965   \n",
            "2    1  0  1.00000  -0.45161  1.00000  1.00000  0.71216  -1.00000  0.00000   \n",
            "3    1  0  1.00000  -0.02401  0.94140  0.06531  0.92106  -0.23255  0.77152   \n",
            "4    1  0  0.02337  -0.00592 -0.09924 -0.11949 -0.00763  -0.11824  0.14706   \n",
            "..  .. ..      ...       ...      ...      ...      ...       ...      ...   \n",
            "345  1  0  0.83508   0.08298  0.73739 -0.14706  0.84349  -0.05567  0.90441   \n",
            "346  1  0  0.95113   0.00419  0.95183 -0.02723  0.93438  -0.01920  0.94590   \n",
            "347  1  0  0.94701  -0.00034  0.93207 -0.03227  0.95177  -0.03431  0.95584   \n",
            "348  1  0  0.90608  -0.01657  0.98122 -0.01989  0.95691  -0.03646  0.85746   \n",
            "349  1  0  0.84710   0.13533  0.73638 -0.06151  0.87873   0.08260  0.88928   \n",
            "\n",
            "     0.03760  ...  -0.51171  0.41078  -0.46168  0.21266  -0.34090  0.42267  \\\n",
            "0   -0.04549  ...  -0.26569 -0.20468  -0.18401 -0.19040  -0.11593 -0.16626   \n",
            "1    0.01198  ...  -0.40220  0.58984  -0.22145  0.43100  -0.17365  0.60436   \n",
            "2    0.00000  ...   0.90695  0.51613   1.00000  1.00000  -0.20099  0.25682   \n",
            "3   -0.16399  ...  -0.65158  0.13290  -0.53206  0.02431  -0.62197 -0.05707   \n",
            "4    0.06637  ...  -0.01535 -0.03240   0.09223 -0.07859   0.00732  0.00000   \n",
            "..       ...  ...       ...      ...       ...      ...       ...      ...   \n",
            "345 -0.04622  ...  -0.04202  0.83479   0.00123  1.00000   0.12815  0.86660   \n",
            "346  0.01606  ...   0.01361  0.93522   0.04925  0.93159   0.08168  0.94066   \n",
            "347  0.02446  ...   0.03193  0.92489   0.02542  0.92120   0.02242  0.92459   \n",
            "348  0.00110  ...  -0.02099  0.89147  -0.07760  0.82983  -0.17238  0.96022   \n",
            "349 -0.09139  ...  -0.15114  0.81147  -0.04822  0.78207  -0.00703  0.75747   \n",
            "\n",
            "     -0.54487  0.18641  -0.45300  g  \n",
            "0    -0.06288 -0.13738  -0.02447  b  \n",
            "1    -0.24180  0.56045  -0.38238  g  \n",
            "2     1.00000 -0.32382   1.00000  b  \n",
            "3    -0.59573 -0.04608  -0.65697  g  \n",
            "4     0.00000 -0.00039   0.12011  b  \n",
            "..        ...      ...       ... ..  \n",
            "345  -0.10714  0.90546  -0.04307  g  \n",
            "346  -0.00035  0.91483   0.04712  g  \n",
            "347   0.00442  0.92697  -0.00577  g  \n",
            "348  -0.03757  0.87403  -0.16243  g  \n",
            "349  -0.06678  0.85764  -0.06151  g  \n",
            "\n",
            "[350 rows x 35 columns]\n"
          ]
        }
      ]
    },
    {
      "cell_type": "markdown",
      "source": [
        "Now that our data is ready we need to make our model. Unlike the other model types we have used in this class, we need to actually make our model (This can involve a lot of tuning in real life). For this example lets make 3 hidden layers."
      ],
      "metadata": {
        "id": "z_oIgp0lW5it"
      }
    },
    {
      "cell_type": "code",
      "source": [
        "# model definition\n",
        "class MLP(Module):\n",
        "    # define model elements\n",
        "    def __init__(self, n_inputs):\n",
        "        super(MLP, self).__init__()\n",
        "        # input to first hidden layer\n",
        "        self.hidden1 = Linear(n_inputs, 10)\n",
        "        kaiming_uniform_(self.hidden1.weight, nonlinearity='relu')\n",
        "        self.act1 = ReLU()\n",
        "        # second hidden layer\n",
        "        self.hidden2 = Linear(10, 8)\n",
        "        kaiming_uniform_(self.hidden2.weight, nonlinearity='relu')\n",
        "        self.act2 = ReLU()\n",
        "        # third hidden layer and output\n",
        "        self.hidden3 = Linear(8, 1)\n",
        "        xavier_uniform_(self.hidden3.weight)\n",
        "        self.act3 = Sigmoid()\n",
        "\n",
        "    # forward propagate input\n",
        "    def forward(self, X):\n",
        "        # input to first hidden layer\n",
        "        X = self.hidden1(X)\n",
        "        X = self.act1(X)\n",
        "         # second hidden layer\n",
        "        X = self.hidden2(X)\n",
        "        X = self.act2(X)\n",
        "        # third hidden layer and output\n",
        "        X = self.hidden3(X)\n",
        "        X = self.act3(X)\n",
        "        return X"
      ],
      "metadata": {
        "id": "dMxySuhwKT1G"
      },
      "execution_count": 8,
      "outputs": []
    },
    {
      "cell_type": "markdown",
      "source": [
        "Now we need to choose how our model will train and improve"
      ],
      "metadata": {
        "id": "IfzY6hUmXp3q"
      }
    },
    {
      "cell_type": "code",
      "source": [
        "import torch\n",
        "import torch.nn as nn\n",
        "import torch.optim as optim\n",
        "import matplotlib.pyplot as plt\n",
        "\n",
        "def train_model(train_dl, val_dl, model):\n",
        "    criterion = nn.BCELoss()  # Binary Cross Entropy Loss for binary classification\n",
        "    optimizer = optim.SGD(model.parameters(), lr=0.01, momentum=0.9)\n",
        "\n",
        "    train_losses = []\n",
        "    val_losses = []\n",
        "\n",
        "    for epoch in range(200):\n",
        "        train_loss = 0.0\n",
        "        val_loss = 0.0\n",
        "\n",
        "        # Training phase\n",
        "        model.train()  # Set model to training mode\n",
        "        for i, (inputs, targets) in enumerate(train_dl):\n",
        "            optimizer.zero_grad()  # Zero out the gradients to prevent accumulation from previous iterations\n",
        "            yhat = model(inputs)  # Forward pass through the model\n",
        "            loss = criterion(yhat, targets)  # Calculate loss using yhat vs targets in criterion\n",
        "            loss.backward()  # Backpropagate the gradients\n",
        "            optimizer.step()  # Update the model parameters based on gradients\n",
        "            train_loss += loss.item()  # Accumulate the training loss\n",
        "\n",
        "        # Validation phase\n",
        "        model.eval()  # Set model to evaluation mode\n",
        "        with torch.no_grad():  # Disable gradient calculation for validation to save memory and computation\n",
        "            for inputs, targets in val_dl:\n",
        "                yhat = model(inputs)  # Forward pass through the model\n",
        "                loss = criterion(yhat, targets)  # Calculate loss using yhat vs targets in criterion\n",
        "                val_loss += loss.item()  # Accumulate the validation loss\n",
        "\n",
        "        # Average loss for the epoch\n",
        "        train_loss /= len(train_dl)\n",
        "        val_loss /= len(val_dl)\n",
        "\n",
        "        train_losses.append(train_loss)\n",
        "        val_losses.append(val_loss)\n",
        "\n",
        "        print(f'Epoch [{epoch + 1}/200], Train Loss: {train_loss:.4f}, Val Loss: {val_loss:.4f}')\n",
        "\n",
        "    # Plotting the training and validation losses\n",
        "    plt.plot(range(1, 201), train_losses, label='Train')\n",
        "    plt.plot(range(1, 201), val_losses, label='Validation')\n",
        "    plt.xlabel('Epoch')\n",
        "    plt.ylabel('Loss')\n",
        "    plt.title('Training and Validation Losses')\n",
        "    plt.legend()\n",
        "    plt.show()"
      ],
      "metadata": {
        "id": "sLgUkrtIL9py"
      },
      "execution_count": 12,
      "outputs": []
    },
    {
      "cell_type": "markdown",
      "source": [
        "Now we set up a function to define how to evaluate the model (accuracy)"
      ],
      "metadata": {
        "id": "SllBP3hPX3P9"
      }
    },
    {
      "cell_type": "code",
      "source": [
        "# evaluate the model\n",
        "def evaluate_model(test_dl, model):\n",
        "    predictions, actuals = list(), list()\n",
        "    for i, (inputs, targets) in enumerate(test_dl):\n",
        "        # evaluate the model on the test set\n",
        "        yhat = model(inputs)\n",
        "        # retrieve numpy array\n",
        "        yhat = yhat.detach().numpy()\n",
        "        actual = targets.numpy()\n",
        "        actual = actual.reshape((len(actual), 1))\n",
        "        # round to class values\n",
        "        yhat = yhat.round()\n",
        "        # store\n",
        "        predictions.append(yhat)\n",
        "        actuals.append(actual)\n",
        "    predictions, actuals = vstack(predictions), vstack(actuals)\n",
        "    # calculate accuracy\n",
        "    acc = accuracy_score(actuals, predictions)\n",
        "    return acc"
      ],
      "metadata": {
        "id": "WL8zll3GMBGX"
      },
      "execution_count": 13,
      "outputs": []
    },
    {
      "cell_type": "markdown",
      "source": [
        "To further show how our model is working lets have the completed model create a prediction on a row of data"
      ],
      "metadata": {
        "id": "YafIowI3YNHf"
      }
    },
    {
      "cell_type": "code",
      "source": [
        "# make a class prediction for one row of data\n",
        "def predict(row, model):\n",
        "    # Convert row to a tensor\n",
        "    row = torch.tensor([row], dtype=torch.float32)  # Ensure proper dtype for model input\n",
        "\n",
        "    # Make prediction by passing data through the model\n",
        "    model.eval()  # Set the model to evaluation mode\n",
        "    with torch.no_grad():  # Disable gradient calculation during prediction\n",
        "        yhat = model(row)  # Pass the row through the model\n",
        "\n",
        "    # Retrieve NumPy array from the output tensor\n",
        "    yhat = yhat.detach().numpy()  # Convert tensor to NumPy array\n",
        "\n",
        "    return yhat"
      ],
      "metadata": {
        "id": "HkPhXzCrMGD8"
      },
      "execution_count": 14,
      "outputs": []
    },
    {
      "cell_type": "markdown",
      "source": [
        "Now its time to actually run the model and have it use our data!"
      ],
      "metadata": {
        "id": "-Nqz4hbYYb3U"
      }
    },
    {
      "cell_type": "code",
      "source": [
        "# Define the network\n",
        "model = MLP(n_inputs=34)  # Create instance of the model with 34 input features\n",
        "\n",
        "# Train the model\n",
        "train_model(train_dl, val_dl, model)  # Train the model with the training and validation dataloaders\n",
        "\n",
        "# Evaluate the model\n",
        "acc = evaluate_model(test_dl, model)  # Evaluate the model with the test dataloader"
      ],
      "metadata": {
        "id": "wGWjuC1OMMYR",
        "colab": {
          "base_uri": "https://localhost:8080/",
          "height": 1000
        },
        "outputId": "73f4ae90-273c-4882-add6-fbe52d2e36c1"
      },
      "execution_count": 15,
      "outputs": [
        {
          "output_type": "stream",
          "name": "stdout",
          "text": [
            "Epoch [1/200], Train Loss: 0.6494, Val Loss: 0.5849\n",
            "Epoch [2/200], Train Loss: 0.5497, Val Loss: 0.5232\n",
            "Epoch [3/200], Train Loss: 0.4865, Val Loss: 0.4635\n",
            "Epoch [4/200], Train Loss: 0.4609, Val Loss: 0.4714\n",
            "Epoch [5/200], Train Loss: 0.4481, Val Loss: 0.5154\n",
            "Epoch [6/200], Train Loss: 0.4385, Val Loss: 0.4641\n",
            "Epoch [7/200], Train Loss: 0.4142, Val Loss: 0.4734\n",
            "Epoch [8/200], Train Loss: 0.4084, Val Loss: 0.4550\n",
            "Epoch [9/200], Train Loss: 0.3822, Val Loss: 0.4365\n",
            "Epoch [10/200], Train Loss: 0.3845, Val Loss: 0.3837\n",
            "Epoch [11/200], Train Loss: 0.3660, Val Loss: 0.3997\n",
            "Epoch [12/200], Train Loss: 0.3363, Val Loss: 0.3826\n",
            "Epoch [13/200], Train Loss: 0.3187, Val Loss: 0.3927\n",
            "Epoch [14/200], Train Loss: 0.3154, Val Loss: 0.3718\n",
            "Epoch [15/200], Train Loss: 0.3086, Val Loss: 0.3893\n",
            "Epoch [16/200], Train Loss: 0.2953, Val Loss: 0.3586\n",
            "Epoch [17/200], Train Loss: 0.2952, Val Loss: 0.3484\n",
            "Epoch [18/200], Train Loss: 0.2715, Val Loss: 0.3862\n",
            "Epoch [19/200], Train Loss: 0.2412, Val Loss: 0.3012\n",
            "Epoch [20/200], Train Loss: 0.2451, Val Loss: 0.3600\n",
            "Epoch [21/200], Train Loss: 0.2134, Val Loss: 0.3027\n",
            "Epoch [22/200], Train Loss: 0.2074, Val Loss: 0.3417\n",
            "Epoch [23/200], Train Loss: 0.2273, Val Loss: 0.3051\n",
            "Epoch [24/200], Train Loss: 0.2156, Val Loss: 0.2930\n",
            "Epoch [25/200], Train Loss: 0.1990, Val Loss: 0.3369\n",
            "Epoch [26/200], Train Loss: 0.1872, Val Loss: 0.2986\n",
            "Epoch [27/200], Train Loss: 0.1850, Val Loss: 0.3178\n",
            "Epoch [28/200], Train Loss: 0.1718, Val Loss: 0.3136\n",
            "Epoch [29/200], Train Loss: 0.1828, Val Loss: 0.3396\n",
            "Epoch [30/200], Train Loss: 0.1515, Val Loss: 0.3065\n",
            "Epoch [31/200], Train Loss: 0.1835, Val Loss: 0.3060\n",
            "Epoch [32/200], Train Loss: 0.1509, Val Loss: 0.2484\n",
            "Epoch [33/200], Train Loss: 0.1459, Val Loss: 0.2632\n",
            "Epoch [34/200], Train Loss: 0.1336, Val Loss: 0.2591\n",
            "Epoch [35/200], Train Loss: 0.1445, Val Loss: 0.2737\n",
            "Epoch [36/200], Train Loss: 0.1311, Val Loss: 0.2776\n",
            "Epoch [37/200], Train Loss: 0.1231, Val Loss: 0.2416\n",
            "Epoch [38/200], Train Loss: 0.1315, Val Loss: 0.2727\n",
            "Epoch [39/200], Train Loss: 0.1174, Val Loss: 0.2295\n",
            "Epoch [40/200], Train Loss: 0.1131, Val Loss: 0.2520\n",
            "Epoch [41/200], Train Loss: 0.1203, Val Loss: 0.2407\n",
            "Epoch [42/200], Train Loss: 0.1075, Val Loss: 0.2522\n",
            "Epoch [43/200], Train Loss: 0.1054, Val Loss: 0.2690\n",
            "Epoch [44/200], Train Loss: 0.1046, Val Loss: 0.2821\n",
            "Epoch [45/200], Train Loss: 0.1022, Val Loss: 0.2552\n",
            "Epoch [46/200], Train Loss: 0.1050, Val Loss: 0.2254\n",
            "Epoch [47/200], Train Loss: 0.1135, Val Loss: 0.2521\n",
            "Epoch [48/200], Train Loss: 0.0996, Val Loss: 0.2687\n",
            "Epoch [49/200], Train Loss: 0.1083, Val Loss: 0.2685\n",
            "Epoch [50/200], Train Loss: 0.1037, Val Loss: 0.2032\n",
            "Epoch [51/200], Train Loss: 0.0878, Val Loss: 0.2163\n",
            "Epoch [52/200], Train Loss: 0.0892, Val Loss: 0.2862\n",
            "Epoch [53/200], Train Loss: 0.1102, Val Loss: 0.2614\n",
            "Epoch [54/200], Train Loss: 0.0957, Val Loss: 0.2037\n",
            "Epoch [55/200], Train Loss: 0.0838, Val Loss: 0.2254\n",
            "Epoch [56/200], Train Loss: 0.0794, Val Loss: 0.2248\n",
            "Epoch [57/200], Train Loss: 0.0820, Val Loss: 0.2059\n",
            "Epoch [58/200], Train Loss: 0.0836, Val Loss: 0.2045\n",
            "Epoch [59/200], Train Loss: 0.0815, Val Loss: 0.2031\n",
            "Epoch [60/200], Train Loss: 0.0768, Val Loss: 0.2390\n",
            "Epoch [61/200], Train Loss: 0.0740, Val Loss: 0.2163\n",
            "Epoch [62/200], Train Loss: 0.0729, Val Loss: 0.2448\n",
            "Epoch [63/200], Train Loss: 0.0966, Val Loss: 0.2088\n",
            "Epoch [64/200], Train Loss: 0.0711, Val Loss: 0.2369\n",
            "Epoch [65/200], Train Loss: 0.0713, Val Loss: 0.2418\n",
            "Epoch [66/200], Train Loss: 0.0694, Val Loss: 0.2197\n",
            "Epoch [67/200], Train Loss: 0.0785, Val Loss: 0.2060\n",
            "Epoch [68/200], Train Loss: 0.0722, Val Loss: 0.2726\n",
            "Epoch [69/200], Train Loss: 0.0656, Val Loss: 0.2082\n",
            "Epoch [70/200], Train Loss: 0.0765, Val Loss: 0.2583\n",
            "Epoch [71/200], Train Loss: 0.0815, Val Loss: 0.2916\n",
            "Epoch [72/200], Train Loss: 0.0692, Val Loss: 0.2681\n",
            "Epoch [73/200], Train Loss: 0.0807, Val Loss: 0.2210\n",
            "Epoch [74/200], Train Loss: 0.0817, Val Loss: 0.2536\n",
            "Epoch [75/200], Train Loss: 0.0698, Val Loss: 0.2769\n",
            "Epoch [76/200], Train Loss: 0.0618, Val Loss: 0.2581\n",
            "Epoch [77/200], Train Loss: 0.0608, Val Loss: 0.2245\n",
            "Epoch [78/200], Train Loss: 0.0592, Val Loss: 0.3124\n",
            "Epoch [79/200], Train Loss: 0.0593, Val Loss: 0.2161\n",
            "Epoch [80/200], Train Loss: 0.0616, Val Loss: 0.2442\n",
            "Epoch [81/200], Train Loss: 0.0586, Val Loss: 0.2564\n",
            "Epoch [82/200], Train Loss: 0.0575, Val Loss: 0.2497\n",
            "Epoch [83/200], Train Loss: 0.0578, Val Loss: 0.2790\n",
            "Epoch [84/200], Train Loss: 0.0739, Val Loss: 0.2423\n",
            "Epoch [85/200], Train Loss: 0.0564, Val Loss: 0.2069\n",
            "Epoch [86/200], Train Loss: 0.0538, Val Loss: 0.2096\n",
            "Epoch [87/200], Train Loss: 0.0676, Val Loss: 0.3210\n",
            "Epoch [88/200], Train Loss: 0.0613, Val Loss: 0.2236\n",
            "Epoch [89/200], Train Loss: 0.0529, Val Loss: 0.2628\n",
            "Epoch [90/200], Train Loss: 0.0530, Val Loss: 0.2737\n",
            "Epoch [91/200], Train Loss: 0.0540, Val Loss: 0.2962\n",
            "Epoch [92/200], Train Loss: 0.0586, Val Loss: 0.2301\n",
            "Epoch [93/200], Train Loss: 0.0514, Val Loss: 0.2505\n",
            "Epoch [94/200], Train Loss: 0.0548, Val Loss: 0.2880\n",
            "Epoch [95/200], Train Loss: 0.0508, Val Loss: 0.2054\n",
            "Epoch [96/200], Train Loss: 0.0555, Val Loss: 0.2868\n",
            "Epoch [97/200], Train Loss: 0.0537, Val Loss: 0.3305\n",
            "Epoch [98/200], Train Loss: 0.0485, Val Loss: 0.1976\n",
            "Epoch [99/200], Train Loss: 0.0482, Val Loss: 0.2194\n",
            "Epoch [100/200], Train Loss: 0.0516, Val Loss: 0.2456\n",
            "Epoch [101/200], Train Loss: 0.0466, Val Loss: 0.2450\n",
            "Epoch [102/200], Train Loss: 0.0475, Val Loss: 0.2441\n",
            "Epoch [103/200], Train Loss: 0.0460, Val Loss: 0.2588\n",
            "Epoch [104/200], Train Loss: 0.0482, Val Loss: 0.2386\n",
            "Epoch [105/200], Train Loss: 0.0465, Val Loss: 0.3285\n",
            "Epoch [106/200], Train Loss: 0.0456, Val Loss: 0.3297\n",
            "Epoch [107/200], Train Loss: 0.0494, Val Loss: 0.3486\n",
            "Epoch [108/200], Train Loss: 0.0447, Val Loss: 0.2777\n",
            "Epoch [109/200], Train Loss: 0.0615, Val Loss: 0.2506\n",
            "Epoch [110/200], Train Loss: 0.0445, Val Loss: 0.2709\n",
            "Epoch [111/200], Train Loss: 0.0648, Val Loss: 0.2829\n",
            "Epoch [112/200], Train Loss: 0.0454, Val Loss: 0.3112\n",
            "Epoch [113/200], Train Loss: 0.0427, Val Loss: 0.2309\n",
            "Epoch [114/200], Train Loss: 0.0425, Val Loss: 0.3210\n",
            "Epoch [115/200], Train Loss: 0.0587, Val Loss: 0.2965\n",
            "Epoch [116/200], Train Loss: 0.0443, Val Loss: 0.2624\n",
            "Epoch [117/200], Train Loss: 0.0427, Val Loss: 0.3005\n",
            "Epoch [118/200], Train Loss: 0.0459, Val Loss: 0.3015\n",
            "Epoch [119/200], Train Loss: 0.0416, Val Loss: 0.2447\n",
            "Epoch [120/200], Train Loss: 0.0400, Val Loss: 0.2522\n",
            "Epoch [121/200], Train Loss: 0.0437, Val Loss: 0.3442\n",
            "Epoch [122/200], Train Loss: 0.0399, Val Loss: 0.2277\n",
            "Epoch [123/200], Train Loss: 0.0468, Val Loss: 0.2721\n",
            "Epoch [124/200], Train Loss: 0.0403, Val Loss: 0.2225\n",
            "Epoch [125/200], Train Loss: 0.0395, Val Loss: 0.3580\n",
            "Epoch [126/200], Train Loss: 0.0386, Val Loss: 0.3046\n",
            "Epoch [127/200], Train Loss: 0.0423, Val Loss: 0.2305\n",
            "Epoch [128/200], Train Loss: 0.0385, Val Loss: 0.2737\n",
            "Epoch [129/200], Train Loss: 0.0382, Val Loss: 0.2456\n",
            "Epoch [130/200], Train Loss: 0.0567, Val Loss: 0.2316\n",
            "Epoch [131/200], Train Loss: 0.0390, Val Loss: 0.3274\n",
            "Epoch [132/200], Train Loss: 0.0381, Val Loss: 0.2148\n",
            "Epoch [133/200], Train Loss: 0.0430, Val Loss: 0.2669\n",
            "Epoch [134/200], Train Loss: 0.0392, Val Loss: 0.2374\n",
            "Epoch [135/200], Train Loss: 0.0359, Val Loss: 0.2418\n",
            "Epoch [136/200], Train Loss: 0.0365, Val Loss: 0.2588\n",
            "Epoch [137/200], Train Loss: 0.0523, Val Loss: 0.2246\n",
            "Epoch [138/200], Train Loss: 0.0343, Val Loss: 0.2042\n",
            "Epoch [139/200], Train Loss: 0.0359, Val Loss: 0.2309\n",
            "Epoch [140/200], Train Loss: 0.0343, Val Loss: 0.2024\n",
            "Epoch [141/200], Train Loss: 0.0344, Val Loss: 0.2390\n",
            "Epoch [142/200], Train Loss: 0.0341, Val Loss: 0.2943\n",
            "Epoch [143/200], Train Loss: 0.0343, Val Loss: 0.2604\n",
            "Epoch [144/200], Train Loss: 0.0500, Val Loss: 0.2878\n",
            "Epoch [145/200], Train Loss: 0.0365, Val Loss: 0.2000\n",
            "Epoch [146/200], Train Loss: 0.0347, Val Loss: 0.3101\n",
            "Epoch [147/200], Train Loss: 0.0351, Val Loss: 0.2335\n",
            "Epoch [148/200], Train Loss: 0.0349, Val Loss: 0.2500\n",
            "Epoch [149/200], Train Loss: 0.0330, Val Loss: 0.2408\n",
            "Epoch [150/200], Train Loss: 0.0347, Val Loss: 0.2281\n",
            "Epoch [151/200], Train Loss: 0.0324, Val Loss: 0.2676\n",
            "Epoch [152/200], Train Loss: 0.0324, Val Loss: 0.2214\n",
            "Epoch [153/200], Train Loss: 0.0347, Val Loss: 0.2418\n",
            "Epoch [154/200], Train Loss: 0.0504, Val Loss: 0.2537\n",
            "Epoch [155/200], Train Loss: 0.0313, Val Loss: 0.2186\n",
            "Epoch [156/200], Train Loss: 0.0318, Val Loss: 0.2980\n",
            "Epoch [157/200], Train Loss: 0.0317, Val Loss: 0.2811\n",
            "Epoch [158/200], Train Loss: 0.0319, Val Loss: 0.3246\n",
            "Epoch [159/200], Train Loss: 0.0355, Val Loss: 0.2872\n",
            "Epoch [160/200], Train Loss: 0.0303, Val Loss: 0.2382\n",
            "Epoch [161/200], Train Loss: 0.0308, Val Loss: 0.2911\n",
            "Epoch [162/200], Train Loss: 0.0456, Val Loss: 0.2249\n",
            "Epoch [163/200], Train Loss: 0.0303, Val Loss: 0.2679\n",
            "Epoch [164/200], Train Loss: 0.0308, Val Loss: 0.3293\n",
            "Epoch [165/200], Train Loss: 0.0302, Val Loss: 0.2712\n",
            "Epoch [166/200], Train Loss: 0.0298, Val Loss: 0.2693\n",
            "Epoch [167/200], Train Loss: 0.0304, Val Loss: 0.2399\n",
            "Epoch [168/200], Train Loss: 0.0292, Val Loss: 0.2950\n",
            "Epoch [169/200], Train Loss: 0.0299, Val Loss: 0.2595\n",
            "Epoch [170/200], Train Loss: 0.0293, Val Loss: 0.2175\n",
            "Epoch [171/200], Train Loss: 0.0300, Val Loss: 0.3096\n",
            "Epoch [172/200], Train Loss: 0.0311, Val Loss: 0.2975\n",
            "Epoch [173/200], Train Loss: 0.0288, Val Loss: 0.2319\n",
            "Epoch [174/200], Train Loss: 0.0282, Val Loss: 0.2516\n",
            "Epoch [175/200], Train Loss: 0.0288, Val Loss: 0.2945\n",
            "Epoch [176/200], Train Loss: 0.0281, Val Loss: 0.2803\n",
            "Epoch [177/200], Train Loss: 0.0275, Val Loss: 0.3228\n",
            "Epoch [178/200], Train Loss: 0.0289, Val Loss: 0.2837\n",
            "Epoch [179/200], Train Loss: 0.0281, Val Loss: 0.3109\n",
            "Epoch [180/200], Train Loss: 0.0276, Val Loss: 0.2243\n",
            "Epoch [181/200], Train Loss: 0.0271, Val Loss: 0.3126\n",
            "Epoch [182/200], Train Loss: 0.0288, Val Loss: 0.3574\n",
            "Epoch [183/200], Train Loss: 0.0417, Val Loss: 0.2254\n",
            "Epoch [184/200], Train Loss: 0.0283, Val Loss: 0.2527\n",
            "Epoch [185/200], Train Loss: 0.0270, Val Loss: 0.2294\n",
            "Epoch [186/200], Train Loss: 0.0262, Val Loss: 0.3146\n",
            "Epoch [187/200], Train Loss: 0.0266, Val Loss: 0.3569\n",
            "Epoch [188/200], Train Loss: 0.0263, Val Loss: 0.3203\n",
            "Epoch [189/200], Train Loss: 0.0415, Val Loss: 0.2703\n",
            "Epoch [190/200], Train Loss: 0.0281, Val Loss: 0.2271\n",
            "Epoch [191/200], Train Loss: 0.0288, Val Loss: 0.2074\n",
            "Epoch [192/200], Train Loss: 0.0424, Val Loss: 0.2314\n",
            "Epoch [193/200], Train Loss: 0.0263, Val Loss: 0.2271\n",
            "Epoch [194/200], Train Loss: 0.0272, Val Loss: 0.2475\n",
            "Epoch [195/200], Train Loss: 0.0265, Val Loss: 0.3526\n",
            "Epoch [196/200], Train Loss: 0.0259, Val Loss: 0.2686\n",
            "Epoch [197/200], Train Loss: 0.0248, Val Loss: 0.2686\n",
            "Epoch [198/200], Train Loss: 0.0271, Val Loss: 0.3402\n",
            "Epoch [199/200], Train Loss: 0.0289, Val Loss: 0.2530\n",
            "Epoch [200/200], Train Loss: 0.0248, Val Loss: 0.2353\n"
          ]
        },
        {
          "output_type": "display_data",
          "data": {
            "text/plain": [
              "<Figure size 640x480 with 1 Axes>"
            ],
            "image/png": "[encoded data removed]"
          },
          "metadata": {}
        }
      ]
    },
    {
      "cell_type": "code",
      "source": [
        "# print final model accuracy\n",
        "print('Final Model Accuracy: %.3f' % acc)"
      ],
      "metadata": {
        "id": "Ukji0aqLhWyw",
        "colab": {
          "base_uri": "https://localhost:8080/"
        },
        "outputId": "882f0043-d4db-4a9d-cb3b-d08defae7568"
      },
      "execution_count": 16,
      "outputs": [
        {
          "output_type": "stream",
          "name": "stdout",
          "text": [
            "Final Model Accuracy: 0.986\n"
          ]
        }
      ]
    },
    {
      "cell_type": "markdown",
      "source": [
        "One of the reasons that we use functions so much in this section is it allows for an easier time making different models and comparing how they preform!"
      ],
      "metadata": {
        "id": "8fLAQFd3YByp"
      }
    }
  ]
}